{
 "cells": [
  {
   "cell_type": "code",
   "execution_count": 1,
   "metadata": {
    "collapsed": true
   },
   "outputs": [],
   "source": [
    "#to debug the program we have pdb in python\n",
    "#let's use this pdb\n",
    "import pdb"
   ]
  },
  {
   "cell_type": "code",
   "execution_count": 5,
   "metadata": {},
   "outputs": [
    {
     "name": "stdout",
     "output_type": "stream",
     "text": [
      "> <ipython-input-5-5612c1cdf852>(4)my_fun()\n",
      "-> print(i)\n",
      "(Pdb) h\n",
      "\n",
      "Documented commands (type help <topic>):\n",
      "========================================\n",
      "EOF    c          d        h         list      q        rv       undisplay\n",
      "a      cl         debug    help      ll        quit     s        unt      \n",
      "alias  clear      disable  ignore    longlist  r        source   until    \n",
      "args   commands   display  interact  n         restart  step     up       \n",
      "b      condition  down     j         next      return   tbreak   w        \n",
      "break  cont       enable   jump      p         retval   u        whatis   \n",
      "bt     continue   exit     l         pp        run      unalias  where    \n",
      "\n",
      "Miscellaneous help topics:\n",
      "==========================\n",
      "exec  pdb\n",
      "\n",
      "(Pdb) list\n",
      "  1  \tdef my_fun(n):\n",
      "  2  \t    for i in range(n):\n",
      "  3  \t        pdb.set_trace()\n",
      "  4  ->\t        print(i)\n",
      "  5  \t\n",
      "  6  \tmy_fun(6)\n",
      "[EOF]\n",
      "(Pdb) p i\n",
      "0\n",
      "(Pdb) p n\n",
      "6\n",
      "(Pdb) p locals()\n",
      "{'i': 0, 'n': 6}\n",
      "(Pdb) c\n",
      "0\n",
      "> <ipython-input-5-5612c1cdf852>(3)my_fun()\n",
      "-> pdb.set_trace()\n",
      "(Pdb) list\n",
      "  1  \tdef my_fun(n):\n",
      "  2  \t    for i in range(n):\n",
      "  3  ->\t        pdb.set_trace()\n",
      "  4  \t        print(i)\n",
      "  5  \t\n",
      "  6  \tmy_fun(6)\n",
      "[EOF]\n",
      "(Pdb) p locals()\n",
      "{'i': 1, 'n': 6}\n",
      "(Pdb) c\n",
      "1\n",
      "> <ipython-input-5-5612c1cdf852>(4)my_fun()\n",
      "-> print(i)\n",
      "(Pdb) c\n",
      "2\n",
      "> <ipython-input-5-5612c1cdf852>(3)my_fun()\n",
      "-> pdb.set_trace()\n",
      "(Pdb) c\n",
      "3\n",
      "> <ipython-input-5-5612c1cdf852>(4)my_fun()\n",
      "-> print(i)\n",
      "(Pdb) list\n",
      "  1  \tdef my_fun(n):\n",
      "  2  \t    for i in range(n):\n",
      "  3  \t        pdb.set_trace()\n",
      "  4  ->\t        print(i)\n",
      "  5  \t\n",
      "  6  \tmy_fun(6)\n",
      "[EOF]\n",
      "(Pdb) p locals(\n",
      "*** SyntaxError: unexpected EOF while parsing\n",
      "(Pdb) p locals()\n",
      "{'i': 4, 'n': 6}\n",
      "(Pdb) c\n",
      "4\n",
      "> <ipython-input-5-5612c1cdf852>(3)my_fun()\n",
      "-> pdb.set_trace()\n",
      "(Pdb) p locals()\n",
      "{'i': 5, 'n': 6}\n",
      "(Pdb) c\n",
      "5\n"
     ]
    }
   ],
   "source": [
    "def my_fun(n):\n",
    "    for i in range(n):\n",
    "        pdb.set_trace()\n",
    "        print(i)\n",
    "        \n",
    "my_fun(6)"
   ]
  },
  {
   "cell_type": "code",
   "execution_count": null,
   "metadata": {
    "collapsed": true
   },
   "outputs": [],
   "source": []
  }
 ],
 "metadata": {
  "kernelspec": {
   "display_name": "Python 3",
   "language": "python",
   "name": "python3"
  },
  "language_info": {
   "codemirror_mode": {
    "name": "ipython",
    "version": 3
   },
   "file_extension": ".py",
   "mimetype": "text/x-python",
   "name": "python",
   "nbconvert_exporter": "python",
   "pygments_lexer": "ipython3",
   "version": "3.6.3"
  }
 },
 "nbformat": 4,
 "nbformat_minor": 2
}
